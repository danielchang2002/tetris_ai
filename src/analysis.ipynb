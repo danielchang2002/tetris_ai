{
 "cells": [
  {
   "cell_type": "code",
   "execution_count": 4,
   "id": "302787ed",
   "metadata": {},
   "outputs": [],
   "source": [
    "import pandas as pd "
   ]
  },
  {
   "cell_type": "code",
   "execution_count": 5,
   "id": "0218bcc2",
   "metadata": {},
   "outputs": [],
   "source": [
    "df = pd.read_csv('data/genetic/data_8.csv')"
   ]
  },
  {
   "cell_type": "code",
   "execution_count": 6,
   "id": "00f1b7a0",
   "metadata": {},
   "outputs": [
    {
     "data": {
      "text/html": [
       "<div>\n",
       "<style scoped>\n",
       "    .dataframe tbody tr th:only-of-type {\n",
       "        vertical-align: middle;\n",
       "    }\n",
       "\n",
       "    .dataframe tbody tr th {\n",
       "        vertical-align: top;\n",
       "    }\n",
       "\n",
       "    .dataframe thead th {\n",
       "        text-align: right;\n",
       "    }\n",
       "</style>\n",
       "<table border=\"1\" class=\"dataframe\">\n",
       "  <thead>\n",
       "    <tr style=\"text-align: right;\">\n",
       "      <th></th>\n",
       "      <th>avg_fit</th>\n",
       "      <th>avg_gene</th>\n",
       "      <th>top_fit</th>\n",
       "      <th>top_gene</th>\n",
       "      <th>elite_fit</th>\n",
       "      <th>elite_gene</th>\n",
       "    </tr>\n",
       "  </thead>\n",
       "  <tbody>\n",
       "    <tr>\n",
       "      <th>0</th>\n",
       "      <td>1.0000</td>\n",
       "      <td>[1. 1. 1. 1. 1. 1. 1. 1. 1.]</td>\n",
       "      <td>1.0</td>\n",
       "      <td>[1. 1. 1. 1. 1. 1. 1. 1. 1.]</td>\n",
       "      <td>1.00</td>\n",
       "      <td>[1. 1. 1. 1. 1. 1. 1. 1. 1.]</td>\n",
       "    </tr>\n",
       "    <tr>\n",
       "      <th>1</th>\n",
       "      <td>11.8750</td>\n",
       "      <td>[-0.0572951  -0.12329121 -0.08524831 -0.301550...</td>\n",
       "      <td>22.5</td>\n",
       "      <td>[-0.59544437  0.41317081  0.57149146 -0.816534...</td>\n",
       "      <td>20.50</td>\n",
       "      <td>[-0.2091805   0.24795024  0.63147864 -0.844694...</td>\n",
       "    </tr>\n",
       "    <tr>\n",
       "      <th>2</th>\n",
       "      <td>19.6875</td>\n",
       "      <td>[-0.10989331  0.15649329  0.58692998 -0.812441...</td>\n",
       "      <td>23.5</td>\n",
       "      <td>[-0.59544437  0.41317081  0.57149146 -0.816534...</td>\n",
       "      <td>23.00</td>\n",
       "      <td>[-0.24294612  0.24366169  0.53822881 -0.766255...</td>\n",
       "    </tr>\n",
       "    <tr>\n",
       "      <th>3</th>\n",
       "      <td>24.3750</td>\n",
       "      <td>[-0.40961517  0.34300593  0.45517811 -0.792696...</td>\n",
       "      <td>33.5</td>\n",
       "      <td>[-0.45931307  0.50166563  0.38850083 -0.542201...</td>\n",
       "      <td>30.75</td>\n",
       "      <td>[-0.45816612  0.50485955  0.39396933 -0.722383...</td>\n",
       "    </tr>\n",
       "    <tr>\n",
       "      <th>4</th>\n",
       "      <td>26.1875</td>\n",
       "      <td>[-0.48386135  0.45489411  0.41893198 -0.878588...</td>\n",
       "      <td>33.0</td>\n",
       "      <td>[-0.41344911  0.52557407  0.36192338 -0.679231...</td>\n",
       "      <td>31.75</td>\n",
       "      <td>[-0.43241142  0.49719819  0.36368836 -0.795973...</td>\n",
       "    </tr>\n",
       "    <tr>\n",
       "      <th>5</th>\n",
       "      <td>35.0625</td>\n",
       "      <td>[-0.40203306  0.56001488  0.37526046 -0.783055...</td>\n",
       "      <td>38.5</td>\n",
       "      <td>[-0.37020739  0.50399101  0.24190737 -0.808295...</td>\n",
       "      <td>38.25</td>\n",
       "      <td>[-0.36653547  0.52756676  0.31293243 -0.742710...</td>\n",
       "    </tr>\n",
       "  </tbody>\n",
       "</table>\n",
       "</div>"
      ],
      "text/plain": [
       "   avg_fit                                           avg_gene  top_fit  \\\n",
       "0   1.0000                       [1. 1. 1. 1. 1. 1. 1. 1. 1.]      1.0   \n",
       "1  11.8750  [-0.0572951  -0.12329121 -0.08524831 -0.301550...     22.5   \n",
       "2  19.6875  [-0.10989331  0.15649329  0.58692998 -0.812441...     23.5   \n",
       "3  24.3750  [-0.40961517  0.34300593  0.45517811 -0.792696...     33.5   \n",
       "4  26.1875  [-0.48386135  0.45489411  0.41893198 -0.878588...     33.0   \n",
       "5  35.0625  [-0.40203306  0.56001488  0.37526046 -0.783055...     38.5   \n",
       "\n",
       "                                            top_gene  elite_fit  \\\n",
       "0                       [1. 1. 1. 1. 1. 1. 1. 1. 1.]       1.00   \n",
       "1  [-0.59544437  0.41317081  0.57149146 -0.816534...      20.50   \n",
       "2  [-0.59544437  0.41317081  0.57149146 -0.816534...      23.00   \n",
       "3  [-0.45931307  0.50166563  0.38850083 -0.542201...      30.75   \n",
       "4  [-0.41344911  0.52557407  0.36192338 -0.679231...      31.75   \n",
       "5  [-0.37020739  0.50399101  0.24190737 -0.808295...      38.25   \n",
       "\n",
       "                                          elite_gene  \n",
       "0                       [1. 1. 1. 1. 1. 1. 1. 1. 1.]  \n",
       "1  [-0.2091805   0.24795024  0.63147864 -0.844694...  \n",
       "2  [-0.24294612  0.24366169  0.53822881 -0.766255...  \n",
       "3  [-0.45816612  0.50485955  0.39396933 -0.722383...  \n",
       "4  [-0.43241142  0.49719819  0.36368836 -0.795973...  \n",
       "5  [-0.36653547  0.52756676  0.31293243 -0.742710...  "
      ]
     },
     "execution_count": 6,
     "metadata": {},
     "output_type": "execute_result"
    }
   ],
   "source": [
    "df"
   ]
  },
  {
   "cell_type": "code",
   "execution_count": 7,
   "id": "ca6fce25",
   "metadata": {},
   "outputs": [],
   "source": [
    "fit = df.filter(['avg_fit','top_fit','elite_fit', ])"
   ]
  },
  {
   "cell_type": "code",
   "execution_count": 10,
   "id": "aec24bf1",
   "metadata": {},
   "outputs": [
    {
     "data": {
      "text/plain": [
       "<AxesSubplot:title={'center':'fitness'}, xlabel='epoch', ylabel='peices placed'>"
      ]
     },
     "execution_count": 10,
     "metadata": {},
     "output_type": "execute_result"
    },
    {
     "data": {
      "image/png": "[encoded data removed]",
      "text/plain": [
       "<Figure size 432x288 with 1 Axes>"
      ]
     },
     "metadata": {
      "needs_background": "light"
     },
     "output_type": "display_data"
    }
   ],
   "source": [
    "fit.plot(title='fitness', xlabel='epoch', ylabel='peices placed')"
   ]
  },
  {
   "cell_type": "code",
   "execution_count": 11,
   "id": "a8d3b9b6",
   "metadata": {},
   "outputs": [
    {
     "data": {
      "text/plain": [
       "0                         [1. 1. 1. 1. 1. 1. 1. 1. 1.]\n",
       "1    [-0.0572951  -0.12329121 -0.08524831 -0.301550...\n",
       "2    [-0.10989331  0.15649329  0.58692998 -0.812441...\n",
       "3    [-0.40961517  0.34300593  0.45517811 -0.792696...\n",
       "4    [-0.48386135  0.45489411  0.41893198 -0.878588...\n",
       "5    [-0.40203306  0.56001488  0.37526046 -0.783055...\n",
       "Name: avg_gene, dtype: object"
      ]
     },
     "execution_count": 11,
     "metadata": {},
     "output_type": "execute_result"
    }
   ],
   "source": [
    "df['avg_gene']"
   ]
  },
  {
   "cell_type": "code",
   "execution_count": null,
   "id": "e4f8688b",
   "metadata": {},
   "outputs": [],
   "source": []
  }
 ],
 "metadata": {
  "kernelspec": {
   "display_name": "venv",
   "language": "python",
   "name": "venv"
  },
  "language_info": {
   "codemirror_mode": {
    "name": "ipython",
    "version": 3
   },
   "file_extension": ".py",
   "mimetype": "text/x-python",
   "name": "python",
   "nbconvert_exporter": "python",
   "pygments_lexer": "ipython3",
   "version": "3.8.10"
  }
 },
 "nbformat": 4,
 "nbformat_minor": 5
}
